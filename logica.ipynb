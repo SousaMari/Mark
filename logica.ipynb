{
 "cells": [
  {
   "cell_type": "code",
   "execution_count": 1,
   "id": "ec4ba26d",
   "metadata": {},
   "outputs": [
    {
     "name": "stdout",
     "output_type": "stream",
     "text": [
      "Você é maior de idade\n"
     ]
    }
   ],
   "source": [
    "idade = 31\n",
    "\n",
    "if idade >= 18:\n",
    "    print('Você é maior de idade')\n",
    "else:\n",
    "    print('Você não é maior de idade')    \n",
    "\n"
   ]
  },
  {
   "cell_type": "code",
   "execution_count": 2,
   "id": "4e0de0d8",
   "metadata": {},
   "outputs": [
    {
     "name": "stdout",
     "output_type": "stream",
     "text": [
      "idade invalida\n"
     ]
    }
   ],
   "source": [
    "# condição encaddeada\n",
    "idade = -5\n",
    "\n",
    "if idade < 0:\n",
    "    print('idade invalida')\n",
    "elif idade >=18:\n",
    "    print('maior de idade')\n",
    "else:\n",
    "    print('Você não é maior de idade') \n"
   ]
  },
  {
   "cell_type": "code",
   "execution_count": null,
   "id": "b5164d5d",
   "metadata": {},
   "outputs": [],
   "source": [
    "# Maiores de idade podem assistir o filme\n",
    "# Menores de idade com 16 ou mais podem desde que estejam acompanhados dos pais\n",
    "# Menores de idade abaixo de 16 não podem asssitir, mesmo acompanhados\n",
    "\n",
    "idade = 18\n",
    "\n",
    "if idade >= 18:\n",
    "    print('Você pode assistir')\n",
    "elif idade < 18 and idade >=16:\n",
    "    acompanhada = input ('Esta acompanhado')     \n",
    "    \n"
   ]
  },
  {
   "cell_type": "markdown",
   "id": "dd527283",
   "metadata": {},
   "source": [
    "MATCH CASE\n"
   ]
  },
  {
   "cell_type": "code",
   "execution_count": null,
   "id": "dc4a1dd0",
   "metadata": {},
   "outputs": [],
   "source": []
  },
  {
   "cell_type": "markdown",
   "id": "b57edcec",
   "metadata": {},
   "source": [
    "Loop for e while"
   ]
  },
  {
   "cell_type": "code",
   "execution_count": 1,
   "id": "e1728547",
   "metadata": {},
   "outputs": [
    {
     "name": "stdout",
     "output_type": "stream",
     "text": [
      "0\n",
      "1\n",
      "2\n",
      "3\n",
      "4\n"
     ]
    }
   ],
   "source": [
    "for numero in range(5):\n",
    "    print(numero)\n",
    "    "
   ]
  },
  {
   "cell_type": "code",
   "execution_count": 2,
   "id": "7c211629",
   "metadata": {},
   "outputs": [
    {
     "ename": "NameError",
     "evalue": "name 'frutas' is not defined",
     "output_type": "error",
     "traceback": [
      "\u001b[31m---------------------------------------------------------------------------\u001b[39m",
      "\u001b[31mNameError\u001b[39m                                 Traceback (most recent call last)",
      "\u001b[36mCell\u001b[39m\u001b[36m \u001b[39m\u001b[32mIn[2]\u001b[39m\u001b[32m, line 3\u001b[39m\n\u001b[32m      1\u001b[39m fruta = [\u001b[33m'\u001b[39m\u001b[33muva\u001b[39m\u001b[33m'\u001b[39m, \u001b[33m'\u001b[39m\u001b[33mmaça\u001b[39m\u001b[33m'\u001b[39m, \u001b[33m'\u001b[39m\u001b[33mgoiaba\u001b[39m\u001b[33m'\u001b[39m, \u001b[33m'\u001b[39m\u001b[33mabacaxi\u001b[39m\u001b[33m'\u001b[39m, \u001b[33m'\u001b[39m\u001b[33mmorango\u001b[39m\u001b[33m'\u001b[39m]\n\u001b[32m      2\u001b[39m \u001b[38;5;28;01mfor\u001b[39;00m fruta \u001b[38;5;129;01min\u001b[39;00m fruta:\n\u001b[32m----> \u001b[39m\u001b[32m3\u001b[39m     \u001b[38;5;28mprint\u001b[39m(\u001b[43mfrutas\u001b[49m)[\u001b[32m3\u001b[39m]\n\u001b[32m      6\u001b[39m     \u001b[38;5;66;03m#esse codigo está errado, corrigir depois \u001b[39;00m\n",
      "\u001b[31mNameError\u001b[39m: name 'frutas' is not defined"
     ]
    }
   ],
   "source": [
    "fruta = ['uva', 'maça', 'goiaba', 'abacaxi', 'morango']\n",
    "for fruta in fruta:\n",
    "    print(frutas)[3]\n",
    "\n",
    "\n",
    "    #esse codigo está errado, corrigir depois "
   ]
  },
  {
   "cell_type": "markdown",
   "id": "0847fd53",
   "metadata": {},
   "source": [
    "While"
   ]
  },
  {
   "cell_type": "code",
   "execution_count": null,
   "id": "0ba526ad",
   "metadata": {},
   "outputs": [],
   "source": [
    "# while (enquanto)\n",
    "resposta = ''\n",
    "\n",
    "while resposta != 'sim':\n",
    "    resposta = input('Já chegou?')\n",
    "# esse está com erro corrigir depois"
   ]
  },
  {
   "cell_type": "markdown",
   "id": "2b57c472",
   "metadata": {},
   "source": [
    "# Dicionarios\n"
   ]
  },
  {
   "cell_type": "code",
   "execution_count": null,
   "id": "43605150",
   "metadata": {},
   "outputs": [],
   "source": [
    "pessoa =  {\n",
    "    'nome: 'Mari',\n",
    "    'idade': 31,\n",
    "    'cpf': '111.111.111-11'\n",
    "    'profissao', : 'desenvolvedora'\n",
    "\n",
    "}"
   ]
  },
  {
   "cell_type": "code",
   "execution_count": 1,
   "id": "cf53226a",
   "metadata": {},
   "outputs": [
    {
     "ename": "NameError",
     "evalue": "name 'pessoa' is not defined",
     "output_type": "error",
     "traceback": [
      "\u001b[31m---------------------------------------------------------------------------\u001b[39m",
      "\u001b[31mNameError\u001b[39m                                 Traceback (most recent call last)",
      "\u001b[36mCell\u001b[39m\u001b[36m \u001b[39m\u001b[32mIn[1]\u001b[39m\u001b[32m, line 1\u001b[39m\n\u001b[32m----> \u001b[39m\u001b[32m1\u001b[39m \u001b[38;5;28mprint\u001b[39m(\u001b[38;5;28mtype\u001b[39m(\u001b[43mpessoa\u001b[49m))\n",
      "\u001b[31mNameError\u001b[39m: name 'pessoa' is not defined"
     ]
    }
   ],
   "source": [
    "print(type(pessoa))"
   ]
  },
  {
   "cell_type": "markdown",
   "id": "eb464847",
   "metadata": {},
   "source": [
    "# Logica de programação\n",
    "---\n",
    "## Condicinais\n"
   ]
  }
 ],
 "metadata": {
  "kernelspec": {
   "display_name": ".venv",
   "language": "python",
   "name": "python3"
  },
  "language_info": {
   "codemirror_mode": {
    "name": "ipython",
    "version": 3
   },
   "file_extension": ".py",
   "mimetype": "text/x-python",
   "name": "python",
   "nbconvert_exporter": "python",
   "pygments_lexer": "ipython3",
   "version": "3.13.7"
  }
 },
 "nbformat": 4,
 "nbformat_minor": 5
}
