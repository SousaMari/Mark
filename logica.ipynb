{
 "cells": [
  {
   "cell_type": "code",
   "execution_count": 1,
   "id": "ec4ba26d",
   "metadata": {},
   "outputs": [
    {
     "name": "stdout",
     "output_type": "stream",
     "text": [
      "Você é maior de idade\n"
     ]
    }
   ],
   "source": [
    "idade = 31\n",
    "\n",
    "if idade >= 18:\n",
    "    print('Você é maior de idade')\n",
    "else:\n",
    "    print('Você não é maior de idade')    \n",
    "\n"
   ]
  },
  {
   "cell_type": "code",
   "execution_count": 2,
   "id": "4e0de0d8",
   "metadata": {},
   "outputs": [
    {
     "name": "stdout",
     "output_type": "stream",
     "text": [
      "idade invalida\n"
     ]
    }
   ],
   "source": [
    "# condição encaddeada\n",
    "idade = -5\n",
    "\n",
    "if idade < 0:\n",
    "    print('idade invalida')\n",
    "elif idade >=18:\n",
    "    print('maior de idade')\n",
    "else:\n",
    "    print('Você não é maior de idade') \n"
   ]
  },
  {
   "cell_type": "code",
   "execution_count": null,
   "id": "b5164d5d",
   "metadata": {},
   "outputs": [],
   "source": [
    "# Maiores de idade podem assistir o filme\n",
    "# Menores de idade com 16 ou mais podem desde que estejam acompanhados dos pais\n",
    "# Menores de idade abaixo de 16 não podem asssitir, mesmo acompanhados\n",
    "\n",
    "idade = 18\n",
    "\n",
    "if idade >= 18:\n",
    "    print('Você pode assistir')\n",
    "elif idade < 18 and idade >=16:\n",
    "    acompanhada = input ('Esta acompanhado')     \n",
    "    \n"
   ]
  },
  {
   "cell_type": "markdown",
   "id": "dd527283",
   "metadata": {},
   "source": [
    "MATCH CASE\n"
   ]
  },
  {
   "cell_type": "code",
   "execution_count": null,
   "id": "dc4a1dd0",
   "metadata": {},
   "outputs": [],
   "source": []
  },
  {
   "cell_type": "markdown",
   "id": "b57edcec",
   "metadata": {},
   "source": [
    "Loop for e while"
   ]
  },
  {
   "cell_type": "code",
   "execution_count": null,
   "id": "e1728547",
   "metadata": {},
   "outputs": [],
   "source": [
    "for numero in range(5):\n",
    "    print(numero)\n",
    "    "
   ]
  },
  {
   "cell_type": "markdown",
   "id": "eb464847",
   "metadata": {},
   "source": [
    "# Logica de programação\n",
    "---\n",
    "## Condicinais\n"
   ]
  }
 ],
 "metadata": {
  "kernelspec": {
   "display_name": ".venv",
   "language": "python",
   "name": "python3"
  },
  "language_info": {
   "codemirror_mode": {
    "name": "ipython",
    "version": 3
   },
   "file_extension": ".py",
   "mimetype": "text/x-python",
   "name": "python",
   "nbconvert_exporter": "python",
   "pygments_lexer": "ipython3",
   "version": "3.13.7"
  }
 },
 "nbformat": 4,
 "nbformat_minor": 5
}
